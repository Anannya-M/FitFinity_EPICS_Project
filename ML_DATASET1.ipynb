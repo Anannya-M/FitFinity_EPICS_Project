{
 "cells": [
  {
   "cell_type": "code",
   "execution_count": 1,
   "metadata": {
    "colab": {
     "base_uri": "https://localhost:8080/"
    },
    "id": "lAg_wVMo4t5b",
    "outputId": "9ce52a9d-84c9-44f0-94c5-d4646be775aa"
   },
   "outputs": [
    {
     "name": "stdout",
     "output_type": "stream",
     "text": [
      "Drive already mounted at /content/drive; to attempt to forcibly remount, call drive.mount(\"/content/drive\", force_remount=True).\n"
     ]
    }
   ],
   "source": [
    "from google.colab import drive\n",
    "drive.mount('/content/drive')"
   ]
  },
  {
   "cell_type": "code",
   "execution_count": 6,
   "metadata": {
    "id": "YkfU-P1T3GKS"
   },
   "outputs": [],
   "source": [
    "import pandas as pd\n",
    "import numpy as np\n",
    "from sklearn.model_selection import train_test_split\n",
    "from sklearn.preprocessing import StandardScaler, OneHotEncoder\n",
    "from sklearn.compose import ColumnTransformer\n",
    "from sklearn.pipeline import Pipeline\n",
    "from sklearn.ensemble import RandomForestClassifier\n",
    "from sklearn.metrics import accuracy_score, classification_report\n",
    "\n"
   ]
  },
  {
   "cell_type": "code",
   "execution_count": 8,
   "metadata": {
    "id": "J7YP2pi_5TUn"
   },
   "outputs": [],
   "source": [
    "# Load dataset\n",
    "data = pd.read_csv(\"C:\\\\Users\\\\ASUS\\\\Desktop\\\\FitFinity_EPICS_Project\\\\FITFINITY (Responses) - Form Responses 1.csv\")"
   ]
  },
  {
   "cell_type": "code",
   "execution_count": 13,
   "metadata": {
    "colab": {
     "base_uri": "https://localhost:8080/",
     "height": 206
    },
    "id": "wYhdKtT15Y3s",
    "outputId": "8821a649-f493-4a8c-fb17-fd773458205f"
   },
   "outputs": [
    {
     "data": {
      "text/html": [
       "\n",
       "  <div id=\"df-76126ee3-4ee8-4346-92b3-9d67c7a72912\">\n",
       "    <div class=\"colab-df-container\">\n",
       "      <div>\n",
       "<style scoped>\n",
       "    .dataframe tbody tr th:only-of-type {\n",
       "        vertical-align: middle;\n",
       "    }\n",
       "\n",
       "    .dataframe tbody tr th {\n",
       "        vertical-align: top;\n",
       "    }\n",
       "\n",
       "    .dataframe thead th {\n",
       "        text-align: right;\n",
       "    }\n",
       "</style>\n",
       "<table border=\"1\" class=\"dataframe\">\n",
       "  <thead>\n",
       "    <tr style=\"text-align: right;\">\n",
       "      <th></th>\n",
       "      <th>Timestamp</th>\n",
       "      <th>Name</th>\n",
       "      <th>Age</th>\n",
       "      <th>Gender</th>\n",
       "      <th>Type of Occupation\\r\\n\\r\\n</th>\n",
       "      <th>Activity Lifestyle</th>\n",
       "      <th>Stress Level</th>\n",
       "      <th>Health Complications</th>\n",
       "    </tr>\n",
       "  </thead>\n",
       "  <tbody>\n",
       "    <tr>\n",
       "      <th>0</th>\n",
       "      <td>12/13/2022 23:37:07</td>\n",
       "      <td>Sangeeta</td>\n",
       "      <td>35</td>\n",
       "      <td>Female</td>\n",
       "      <td>Desk_Job</td>\n",
       "      <td>3</td>\n",
       "      <td>4</td>\n",
       "      <td>Back_Pain</td>\n",
       "    </tr>\n",
       "    <tr>\n",
       "      <th>1</th>\n",
       "      <td>12/13/2022 23:37:08</td>\n",
       "      <td>Sangeeta</td>\n",
       "      <td>35</td>\n",
       "      <td>Female</td>\n",
       "      <td>Desk_Job</td>\n",
       "      <td>3</td>\n",
       "      <td>4</td>\n",
       "      <td>Joints_Pain</td>\n",
       "    </tr>\n",
       "    <tr>\n",
       "      <th>2</th>\n",
       "      <td>12/14/2022 13:10:07</td>\n",
       "      <td>Manju Manojawas</td>\n",
       "      <td>49</td>\n",
       "      <td>Female</td>\n",
       "      <td>Household</td>\n",
       "      <td>4</td>\n",
       "      <td>4</td>\n",
       "      <td>Back_Pain</td>\n",
       "    </tr>\n",
       "    <tr>\n",
       "      <th>3</th>\n",
       "      <td>12/14/2022 13:10:08</td>\n",
       "      <td>Manju Manojawas</td>\n",
       "      <td>49</td>\n",
       "      <td>Female</td>\n",
       "      <td>Household</td>\n",
       "      <td>4</td>\n",
       "      <td>4</td>\n",
       "      <td>Joints_Pain</td>\n",
       "    </tr>\n",
       "    <tr>\n",
       "      <th>4</th>\n",
       "      <td>12/14/2022 20:46:02</td>\n",
       "      <td>Abhimanyu Manojawas</td>\n",
       "      <td>16</td>\n",
       "      <td>Male</td>\n",
       "      <td>Student</td>\n",
       "      <td>4</td>\n",
       "      <td>4</td>\n",
       "      <td>Healthy</td>\n",
       "    </tr>\n",
       "  </tbody>\n",
       "</table>\n",
       "</div>\n",
       "      <button class=\"colab-df-convert\" onclick=\"convertToInteractive('df-76126ee3-4ee8-4346-92b3-9d67c7a72912')\"\n",
       "              title=\"Convert this dataframe to an interactive table.\"\n",
       "              style=\"display:none;\">\n",
       "        \n",
       "  <svg xmlns=\"http://www.w3.org/2000/svg\" height=\"24px\"viewBox=\"0 0 24 24\"\n",
       "       width=\"24px\">\n",
       "    <path d=\"M0 0h24v24H0V0z\" fill=\"none\"/>\n",
       "    <path d=\"M18.56 5.44l.94 2.06.94-2.06 2.06-.94-2.06-.94-.94-2.06-.94 2.06-2.06.94zm-11 1L8.5 8.5l.94-2.06 2.06-.94-2.06-.94L8.5 2.5l-.94 2.06-2.06.94zm10 10l.94 2.06.94-2.06 2.06-.94-2.06-.94-.94-2.06-.94 2.06-2.06.94z\"/><path d=\"M17.41 7.96l-1.37-1.37c-.4-.4-.92-.59-1.43-.59-.52 0-1.04.2-1.43.59L10.3 9.45l-7.72 7.72c-.78.78-.78 2.05 0 2.83L4 21.41c.39.39.9.59 1.41.59.51 0 1.02-.2 1.41-.59l7.78-7.78 2.81-2.81c.8-.78.8-2.07 0-2.86zM5.41 20L4 18.59l7.72-7.72 1.47 1.35L5.41 20z\"/>\n",
       "  </svg>\n",
       "      </button>\n",
       "      \n",
       "  <style>\n",
       "    .colab-df-container {\n",
       "      display:flex;\n",
       "      flex-wrap:wrap;\n",
       "      gap: 12px;\n",
       "    }\n",
       "\n",
       "    .colab-df-convert {\n",
       "      background-color: #E8F0FE;\n",
       "      border: none;\n",
       "      border-radius: 50%;\n",
       "      cursor: pointer;\n",
       "      display: none;\n",
       "      fill: #1967D2;\n",
       "      height: 32px;\n",
       "      padding: 0 0 0 0;\n",
       "      width: 32px;\n",
       "    }\n",
       "\n",
       "    .colab-df-convert:hover {\n",
       "      background-color: #E2EBFA;\n",
       "      box-shadow: 0px 1px 2px rgba(60, 64, 67, 0.3), 0px 1px 3px 1px rgba(60, 64, 67, 0.15);\n",
       "      fill: #174EA6;\n",
       "    }\n",
       "\n",
       "    [theme=dark] .colab-df-convert {\n",
       "      background-color: #3B4455;\n",
       "      fill: #D2E3FC;\n",
       "    }\n",
       "\n",
       "    [theme=dark] .colab-df-convert:hover {\n",
       "      background-color: #434B5C;\n",
       "      box-shadow: 0px 1px 3px 1px rgba(0, 0, 0, 0.15);\n",
       "      filter: drop-shadow(0px 1px 2px rgba(0, 0, 0, 0.3));\n",
       "      fill: #FFFFFF;\n",
       "    }\n",
       "  </style>\n",
       "\n",
       "      <script>\n",
       "        const buttonEl =\n",
       "          document.querySelector('#df-76126ee3-4ee8-4346-92b3-9d67c7a72912 button.colab-df-convert');\n",
       "        buttonEl.style.display =\n",
       "          google.colab.kernel.accessAllowed ? 'block' : 'none';\n",
       "\n",
       "        async function convertToInteractive(key) {\n",
       "          const element = document.querySelector('#df-76126ee3-4ee8-4346-92b3-9d67c7a72912');\n",
       "          const dataTable =\n",
       "            await google.colab.kernel.invokeFunction('convertToInteractive',\n",
       "                                                     [key], {});\n",
       "          if (!dataTable) return;\n",
       "\n",
       "          const docLinkHtml = 'Like what you see? Visit the ' +\n",
       "            '<a target=\"_blank\" href=https://colab.research.google.com/notebooks/data_table.ipynb>data table notebook</a>'\n",
       "            + ' to learn more about interactive tables.';\n",
       "          element.innerHTML = '';\n",
       "          dataTable['output_type'] = 'display_data';\n",
       "          await google.colab.output.renderOutput(dataTable, element);\n",
       "          const docLink = document.createElement('div');\n",
       "          docLink.innerHTML = docLinkHtml;\n",
       "          element.appendChild(docLink);\n",
       "        }\n",
       "      </script>\n",
       "    </div>\n",
       "  </div>\n",
       "  "
      ],
      "text/plain": [
       "             Timestamp                Name   Age Gender   \\\n",
       "0  12/13/2022 23:37:07             Sangeeta   35  Female   \n",
       "1  12/13/2022 23:37:08             Sangeeta   35  Female   \n",
       "2  12/14/2022 13:10:07      Manju Manojawas   49  Female   \n",
       "3  12/14/2022 13:10:08      Manju Manojawas   49  Female   \n",
       "4  12/14/2022 20:46:02  Abhimanyu Manojawas   16    Male   \n",
       "\n",
       "  Type of Occupation\\r\\n\\r\\n  Activity Lifestyle   Stress Level   \\\n",
       "0                   Desk_Job                    3              4   \n",
       "1                   Desk_Job                    3              4   \n",
       "2                  Household                    4              4   \n",
       "3                  Household                    4              4   \n",
       "4                    Student                    4              4   \n",
       "\n",
       "  Health Complications  \n",
       "0            Back_Pain  \n",
       "1        Joints_Pain    \n",
       "2            Back_Pain  \n",
       "3        Joints_Pain    \n",
       "4           Healthy     "
      ]
     },
     "execution_count": 13,
     "metadata": {},
     "output_type": "execute_result"
    }
   ],
   "source": [
    "data.head()"
   ]
  },
  {
   "cell_type": "code",
   "execution_count": 9,
   "metadata": {
    "id": "M1kXhEua5Na_"
   },
   "outputs": [],
   "source": [
    "# Remove the timestamp column\n",
    "data.drop(\"Timestamp\", axis=1, inplace=True)"
   ]
  },
  {
   "cell_type": "code",
   "execution_count": 10,
   "metadata": {
    "id": "m9v54HcI4bms"
   },
   "outputs": [],
   "source": [
    "\n",
    "\n",
    "# Data preprocessing\n",
    "# Handle missing values (you may need to adjust this based on your dataset)\n",
    "data.dropna(inplace=True)\n",
    "\n",
    "# Split data into training and testing sets\n",
    "X = data.drop(\"Health Complications\", axis=1)\n",
    "y = data[\"Health Complications\"]\n",
    "X_train, X_test, y_train, y_test = train_test_split(X, y, test_size=0.2, random_state=42)\n",
    "\n",
    "# Preprocessing pipeline\n",
    "numeric_features = [\"Age\", \"Stress Level \", \"Activity Lifestyle \"]\n",
    "categorical_features = [\"Name \", \"Gender \", \"Type of Occupation\\r\\n\\r\\n\"]\n",
    "\n",
    "preprocessor = ColumnTransformer(\n",
    "    transformers=[\n",
    "        (\"num\", StandardScaler(), numeric_features),\n",
    "        (\"cat\", OneHotEncoder(handle_unknown='ignore'), categorical_features),\n",
    "    ])\n",
    "\n",
    "\n",
    "\n"
   ]
  },
  {
   "cell_type": "code",
   "execution_count": 11,
   "metadata": {
    "id": "yQK1xWTV4fw6"
   },
   "outputs": [],
   "source": [
    "# Create the model\n",
    "model = RandomForestClassifier(random_state=42)"
   ]
  },
  {
   "cell_type": "code",
   "execution_count": 12,
   "metadata": {
    "id": "m85Gi11x4hy2"
   },
   "outputs": [],
   "source": [
    "# Create a pipeline to preprocess data and train the model\n",
    "pipeline = Pipeline(steps=[(\"preprocessor\", preprocessor), (\"model\", model)])\n"
   ]
  },
  {
   "cell_type": "code",
   "execution_count": 13,
   "metadata": {
    "colab": {
     "base_uri": "https://localhost:8080/"
    },
    "id": "6pdLAl8e740K",
    "outputId": "f9d00ac0-158d-4bc7-f0cb-8307f2e21d3e"
   },
   "outputs": [
    {
     "name": "stdout",
     "output_type": "stream",
     "text": [
      "Index(['Name ', 'Age', 'Gender ', 'Type of Occupation\\r\\n\\r\\n',\n",
      "       'Activity Lifestyle ', 'Stress Level ', 'Health Complications'],\n",
      "      dtype='object')\n"
     ]
    }
   ],
   "source": [
    "print(data.columns)\n"
   ]
  },
  {
   "cell_type": "code",
   "execution_count": 14,
   "metadata": {
    "colab": {
     "base_uri": "https://localhost:8080/",
     "height": 191
    },
    "id": "KjgeQAjS4mA7",
    "outputId": "a46df8f4-8aca-4273-f51e-fde30dcaa11a"
   },
   "outputs": [
    {
     "data": {
      "text/plain": [
       "Pipeline(steps=[('preprocessor',\n",
       "                 ColumnTransformer(transformers=[('num', StandardScaler(),\n",
       "                                                  ['Age', 'Stress Level ',\n",
       "                                                   'Activity Lifestyle ']),\n",
       "                                                 ('cat',\n",
       "                                                  OneHotEncoder(handle_unknown='ignore'),\n",
       "                                                  ['Name ', 'Gender ',\n",
       "                                                   'Type of Occupation\\r\\n'\n",
       "                                                   '\\r\\n'])])),\n",
       "                ('model', RandomForestClassifier(random_state=42))])"
      ]
     },
     "execution_count": 14,
     "metadata": {},
     "output_type": "execute_result"
    }
   ],
   "source": [
    "# Train the model\n",
    "pipeline.fit(X_train, y_train)\n",
    "\n"
   ]
  },
  {
   "cell_type": "code",
   "execution_count": 15,
   "metadata": {
    "colab": {
     "base_uri": "https://localhost:8080/"
    },
    "id": "2Ag5VlDI4oRz",
    "outputId": "3fa3c709-3397-49d4-eae5-edee4b4ee8ba"
   },
   "outputs": [
    {
     "name": "stdout",
     "output_type": "stream",
     "text": [
      "Accuracy: 0.037037037037037035\n",
      "                                  precision    recall  f1-score   support\n",
      "\n",
      "                       Back_Pain       0.00      0.00      0.00        14\n",
      "                      Back_Pain        0.00      0.00      0.00         1\n",
      "                  Blood_Pressure       0.00      0.00      0.00         9\n",
      "                 Blood_Pressure        0.00      0.00      0.00         1\n",
      "                 Cardiovascular        0.00      0.00      0.00         1\n",
      "Cardiovascular Cholesterol etc)        0.00      0.00      0.00         0\n",
      "                        Diabetes       0.00      0.00      0.00        10\n",
      "                       Diabetes        0.00      0.00      0.00         1\n",
      "                      Diabetes         0.00      0.00      0.00         1\n",
      "              Digestive_Problems       0.00      0.00      0.00         1\n",
      "             Digestive_Problems        0.00      0.00      0.00         0\n",
      "            Digestive_Problems         0.00      0.00      0.00         2\n",
      "           Digestive_Problems          0.00      0.00      0.00         3\n",
      "             Eyes_related_issues       0.00      0.00      0.00         3\n",
      "            Eyes_related_issues        0.00      0.00      0.00         1\n",
      "           Eyes_related_issues         0.00      0.00      0.00         2\n",
      "          Eyes_related_issues          0.20      0.17      0.18         6\n",
      "                    Headaches          0.00      0.00      0.00         1\n",
      "                      Healthy          0.25      0.33      0.29         6\n",
      "                     Joints_Pain       0.00      0.00      0.00         6\n",
      "                    Joints_Pain        0.00      0.00      0.00         0\n",
      "                   Joints_Pain         0.00      0.00      0.00         2\n",
      "                  Joints_Pain          0.00      0.00      0.00         1\n",
      "                      Migraine         0.00      0.00      0.00         1\n",
      "            Respiratory_problems       0.00      0.00      0.00         1\n",
      "           Respiratory_problems        0.00      0.00      0.00         1\n",
      "         Respiratory_problems          0.00      0.00      0.00         4\n",
      "                  Skin_Issues          0.00      0.00      0.00         1\n",
      "                      Thyroid          0.00      0.00      0.00         1\n",
      "\n",
      "                        accuracy                           0.04        81\n",
      "                       macro avg       0.02      0.02      0.02        81\n",
      "                    weighted avg       0.03      0.04      0.03        81\n",
      "\n"
     ]
    },
    {
     "name": "stderr",
     "output_type": "stream",
     "text": [
      "C:\\Users\\ASUS\\anaconda3\\lib\\site-packages\\sklearn\\metrics\\_classification.py:1221: UndefinedMetricWarning: Precision and F-score are ill-defined and being set to 0.0 in labels with no predicted samples. Use `zero_division` parameter to control this behavior.\n",
      "  _warn_prf(average, modifier, msg_start, len(result))\n",
      "C:\\Users\\ASUS\\anaconda3\\lib\\site-packages\\sklearn\\metrics\\_classification.py:1221: UndefinedMetricWarning: Recall and F-score are ill-defined and being set to 0.0 in labels with no true samples. Use `zero_division` parameter to control this behavior.\n",
      "  _warn_prf(average, modifier, msg_start, len(result))\n"
     ]
    }
   ],
   "source": [
    "# Predict and evaluate the model\n",
    "y_pred = pipeline.predict(X_test)\n",
    "accuracy = accuracy_score(y_test, y_pred)\n",
    "print(\"Accuracy:\", accuracy)\n",
    "print(classification_report(y_test, y_pred))"
   ]
  },
  {
   "cell_type": "code",
   "execution_count": 16,
   "metadata": {
    "id": "h2K4Splp-bSK"
   },
   "outputs": [],
   "source": [
    "# Function to predict health complications based on user input\n",
    "def predict_health_complication(name, age, gender, occupation, activity_lifestyle, stress_level):\n",
    "    input_data = pd.DataFrame({\n",
    "        \"Name \": [name],\n",
    "        \"Age\": [age],\n",
    "        \"Gender \": [gender],\n",
    "        \"Type of Occupation\\r\\n\\r\\n\": [occupation],\n",
    "        \"Activity Lifestyle \": [activity_lifestyle],\n",
    "        \"Stress Level \": [stress_level]\n",
    "    })\n",
    "\n",
    "    # Use the trained pipeline to predict the health complication\n",
    "    prediction = pipeline.predict(input_data)\n",
    "    return prediction[0]"
   ]
  },
  {
   "cell_type": "code",
   "execution_count": 17,
   "metadata": {
    "id": "6bw2PQoA-fLB"
   },
   "outputs": [],
   "source": [
    "# Function to predict health complications based on user input\n",
    "def predict_health_complication(name, age, gender, occupation, activity_lifestyle, stress_level):\n",
    "    input_data = pd.DataFrame({\n",
    "        \"Name \": [name],\n",
    "        \"Age\": [age],\n",
    "        \"Gender \": [gender],\n",
    "        \"Type of Occupation\\r\\n\\r\\n\": [occupation],\n",
    "        \"Activity Lifestyle \": [activity_lifestyle],\n",
    "        \"Stress Level \": [stress_level]\n",
    "    })\n",
    "  # Use the trained pipeline to predict the health complication\n",
    "    prediction = pipeline.predict(input_data)\n",
    "    return prediction[0]"
   ]
  },
  {
   "cell_type": "code",
   "execution_count": 23,
   "metadata": {
    "colab": {
     "base_uri": "https://localhost:8080/"
    },
    "id": "UCFHC8kp-s1I",
    "outputId": "07f88c9a-8ba4-44c0-9a32-1b522c4423dc"
   },
   "outputs": [
    {
     "name": "stdout",
     "output_type": "stream",
     "text": [
      "Predicted Health Complication: Back_Pain\n"
     ]
    }
   ],
   "source": [
    "# Example usage of the function\n",
    "predicted_health_complication = predict_health_complication(\n",
    "    name=\"Harshit Dwivedi\",\n",
    "    age=47,\n",
    "    gender=\"Male\",\n",
    "    occupation=\"Teacher\",\n",
    "    activity_lifestyle=10,\n",
    "    stress_level=5\n",
    ")\n",
    "\n",
    "print(\"Predicted Health Complication:\", predicted_health_complication)"
   ]
  },
  {
   "cell_type": "code",
   "execution_count": 24,
   "metadata": {},
   "outputs": [
    {
     "name": "stdout",
     "output_type": "stream",
     "text": [
      "Predicted Health Complication: Blood_Pressure\n"
     ]
    }
   ],
   "source": [
    "# Example usage of the function\n",
    "predicted_health_complication = predict_health_complication(\n",
    "    name=\"Ujjwal Roy\",\n",
    "    age=36,\n",
    "    gender=\"Male\",\n",
    "    occupation=\"Field_job\",\n",
    "    activity_lifestyle=7,\n",
    "    stress_level=3\n",
    ")\n",
    "\n",
    "print(\"Predicted Health Complication:\", predicted_health_complication)"
   ]
  },
  {
   "cell_type": "code",
   "execution_count": null,
   "metadata": {},
   "outputs": [],
   "source": []
  }
 ],
 "metadata": {
  "colab": {
   "provenance": []
  },
  "kernelspec": {
   "display_name": "Python 3",
   "language": "python",
   "name": "python3"
  },
  "language_info": {
   "codemirror_mode": {
    "name": "ipython",
    "version": 3
   },
   "file_extension": ".py",
   "mimetype": "text/x-python",
   "name": "python",
   "nbconvert_exporter": "python",
   "pygments_lexer": "ipython3",
   "version": "3.8.3"
  }
 },
 "nbformat": 4,
 "nbformat_minor": 1
}
