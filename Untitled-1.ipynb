{
 "cells": [
  {
   "cell_type": "code",
   "execution_count": 1,
   "metadata": {},
   "outputs": [],
   "source": [
    "from flask import Flask , render_template , request\n",
    "import mysql.connector"
   ]
  },
  {
   "cell_type": "code",
   "execution_count": 2,
   "metadata": {},
   "outputs": [],
   "source": [
    "# function to calculate BMI\n",
    "def calculate_bmi(weight, height):\n",
    "    bmi = weight / ((height/100)**2)\n",
    "    return round(bmi, 2)"
   ]
  },
  {
   "cell_type": "code",
   "execution_count": 6,
   "metadata": {},
   "outputs": [],
   "source": [
    "app = Flask(__name__)\n",
    "\n",
    "@app.route('/')\n",
    "def styling():\n",
    "    return render_template(\"Landingpage.html\")\n",
    "@app.route('/Analysis')\n",
    "def analysis():\n",
    "    return render_template(\"analytics.html\")\n",
    "@app.route('/About us')\n",
    "def about():\n",
    "    return render_template(\"Aboutus.html\")\n",
    "@app.route('/Contact us')\n",
    "def contact():\n",
    "    return render_template(\"Contactus.html\")\n",
    "@app.route('/Get Started')\n",
    "def getstarted():\n",
    "    return render_template(\"form1.html\")\n",
    "if __name__== '_main_':\n",
    "    app.run(debug=True)"
   ]
  }
 ],
 "metadata": {
  "kernelspec": {
   "display_name": "Python 3",
   "language": "python",
   "name": "python3"
  },
  "language_info": {
   "codemirror_mode": {
    "name": "ipython",
    "version": 3
   },
   "file_extension": ".py",
   "mimetype": "text/x-python",
   "name": "python",
   "nbconvert_exporter": "python",
   "pygments_lexer": "ipython3",
   "version": "3.9.0"
  },
  "orig_nbformat": 4
 },
 "nbformat": 4,
 "nbformat_minor": 2
}
