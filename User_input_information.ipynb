{
 "cells": [
  {
   "cell_type": "code",
   "execution_count": 1,
   "id": "4e2ad30e",
   "metadata": {},
   "outputs": [],
   "source": [
    "import mysql.connector\n",
    "from mysql.connector import *"
   ]
  },
  {
   "cell_type": "code",
   "execution_count": 2,
   "id": "c1cc42a3",
   "metadata": {},
   "outputs": [
    {
     "name": "stdout",
     "output_type": "stream",
     "text": [
      "Connection successful\n"
     ]
    }
   ],
   "source": [
    "#CONNECTING THE MYSQL TO PYTHON \n",
    "connection = mysql.connector.connect(user = 'root', passwd = '123456')\n",
    "if (connection.is_connected()):\n",
    "    print(\"Connection successful\")\n",
    "else:\n",
    "    print(\"Not Connected\")"
   ]
  },
  {
   "cell_type": "code",
   "execution_count": 3,
   "id": "0640d587",
   "metadata": {},
   "outputs": [],
   "source": [
    "#ESTABLISHING A CURSOR TO WORK WITH THE CONNECTION\n",
    "cursor = connection.cursor()"
   ]
  },
  {
   "cell_type": "code",
   "execution_count": 4,
   "id": "9e84f455",
   "metadata": {},
   "outputs": [],
   "source": [
    "#CREATING A DATABASE AND USING IT\n",
    "\n",
    "cursor.execute(\"CREATE DATABASE {}\".format('user_info'))\n",
    "cursor.execute(\"USE {}\".format('user_info'))"
   ]
  },
  {
   "cell_type": "code",
   "execution_count": 5,
   "id": "c3cac7a9",
   "metadata": {},
   "outputs": [],
   "source": [
    "#CREATING A TABLE \n",
    "table_create = '''CREATE TABLE users (\n",
    "               Name VARCHAR(50) NOT NULL,\n",
    "               Age INT(10) NOT NULL,\n",
    "               Gender VARCHAR(10) NOT NULL,\n",
    "               Height FLOAT(50,2) NOT NULL,\n",
    "               Weight FLOAT(10,2) NOT NULL,\n",
    "               BMI FLOAT(10,2) NOT NULL)'''\n",
    "cursor.execute(table_create)"
   ]
  },
  {
   "cell_type": "code",
   "execution_count": null,
   "id": "b71b19e6",
   "metadata": {},
   "outputs": [],
   "source": []
  }
 ],
 "metadata": {
  "kernelspec": {
   "display_name": "Python 3 (ipykernel)",
   "language": "python",
   "name": "python3"
  },
  "language_info": {
   "codemirror_mode": {
    "name": "ipython",
    "version": 3
   },
   "file_extension": ".py",
   "mimetype": "text/x-python",
   "name": "python",
   "nbconvert_exporter": "python",
   "pygments_lexer": "ipython3",
   "version": "3.9.0"
  }
 },
 "nbformat": 4,
 "nbformat_minor": 5
}
